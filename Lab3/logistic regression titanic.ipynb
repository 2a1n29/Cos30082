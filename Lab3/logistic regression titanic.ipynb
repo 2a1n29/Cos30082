{
 "cells": [
  {
   "cell_type": "code",
   "execution_count": 348,
   "id": "9c5b33b8",
   "metadata": {},
   "outputs": [],
   "source": [
    "import os\n",
    "import pandas as pd\n",
    "from sklearn.model_selection import train_test_split\n",
    "from sklearn.linear_model import LogisticRegression\n",
    "from sklearn.metrics import accuracy_score\n",
    "from sklearn.preprocessing import LabelEncoder"
   ]
  },
  {
   "cell_type": "code",
   "execution_count": 349,
   "id": "c848b242",
   "metadata": {},
   "outputs": [
    {
     "name": "stdout",
     "output_type": "stream",
     "text": [
      "The current working directory is: d:\\Swinburne\\COS30082\\Lab3\n"
     ]
    }
   ],
   "source": [
    "\n",
    "current_path = os.getcwd()\n",
    "print(\"The current working directory is:\", current_path)\n",
    " "
   ]
  },
  {
   "cell_type": "code",
   "execution_count": 350,
   "id": "3bf7b369",
   "metadata": {},
   "outputs": [],
   "source": [
    "# Load the dataset\n",
    " \n",
    "preprocess_df = pd.read_csv('Titanic-Dataset.csv')"
   ]
  },
  {
   "cell_type": "code",
   "execution_count": 351,
   "id": "a822c4f9",
   "metadata": {},
   "outputs": [],
   "source": [
    "preprocess_df.head()\n",
    "df = preprocess_df.copy()"
   ]
  },
  {
   "cell_type": "code",
   "execution_count": 352,
   "id": "8db58fdd",
   "metadata": {},
   "outputs": [
    {
     "name": "stdout",
     "output_type": "stream",
     "text": [
      "PassengerId      0\n",
      "Survived         0\n",
      "Pclass           0\n",
      "Name             0\n",
      "Sex              0\n",
      "Age              0\n",
      "SibSp            0\n",
      "Parch            0\n",
      "Ticket           0\n",
      "Fare             0\n",
      "Cabin          687\n",
      "Embarked         0\n",
      "dtype: int64\n"
     ]
    }
   ],
   "source": [
    "# Preprocessing\n",
    "# Encoding categorical data\n",
    "label_encoder = LabelEncoder()\n",
    "df['Sex'] = label_encoder.fit_transform(df['Sex'])  # Convert 'Sex' to numerical\n",
    "df[\"Embarked\"].fillna(df['Embarked'].value_counts().idxmax(), inplace=True)\n",
    "df[\"Age\"].fillna(df[\"Age\"].median(skipna=True), inplace=True)\n",
    "print(df.isnull().sum())\n",
    "# df['Embarked'].fillna('S', inplace=True)  # Fill missing 'Embarked' with 'S' for Southampton\n",
    "#df['Embarked'] = label_encoder.fit_transform(df['Embarked'])  # Convert 'Embarked' to numerical\n",
    "df = pd.get_dummies(df, columns=['Embarked','Pclass'])\n",
    "# Convert True/False values to 0/1\n",
    "df['Embarked_C'] = df['Embarked_C'].astype(int)\n",
    "df['Embarked_Q'] = df['Embarked_Q'].astype(int)\n",
    "df['Embarked_S'] = df['Embarked_S'].astype(int)\n",
    "# Convert True/False values to 0/1 for Pclass\n",
    "df['Pclass_1'] = df['Pclass_1'].astype(int)\n",
    "df['Pclass_2'] = df['Pclass_2'].astype(int)\n",
    "df['Pclass_3'] = df['Pclass_3'].astype(int)\n",
    "\n",
    "df.drop(['Cabin','PassengerId', 'Name', 'Ticket','Fare'], axis=1, inplace=True)\n",
    "\n",
    "# Handling missing values\n",
    "# df['Age'].fillna(df['Age'].median(), inplace=True)  # Replace missing 'Age' with median value"
   ]
  },
  {
   "cell_type": "code",
   "execution_count": 353,
   "id": "53b506d4",
   "metadata": {},
   "outputs": [
    {
     "data": {
      "text/html": [
       "<div>\n",
       "<style scoped>\n",
       "    .dataframe tbody tr th:only-of-type {\n",
       "        vertical-align: middle;\n",
       "    }\n",
       "\n",
       "    .dataframe tbody tr th {\n",
       "        vertical-align: top;\n",
       "    }\n",
       "\n",
       "    .dataframe thead th {\n",
       "        text-align: right;\n",
       "    }\n",
       "</style>\n",
       "<table border=\"1\" class=\"dataframe\">\n",
       "  <thead>\n",
       "    <tr style=\"text-align: right;\">\n",
       "      <th></th>\n",
       "      <th>Survived</th>\n",
       "      <th>Sex</th>\n",
       "      <th>Age</th>\n",
       "      <th>SibSp</th>\n",
       "      <th>Parch</th>\n",
       "      <th>Embarked_C</th>\n",
       "      <th>Embarked_Q</th>\n",
       "      <th>Embarked_S</th>\n",
       "      <th>Pclass_1</th>\n",
       "      <th>Pclass_2</th>\n",
       "      <th>Pclass_3</th>\n",
       "    </tr>\n",
       "  </thead>\n",
       "  <tbody>\n",
       "    <tr>\n",
       "      <th>0</th>\n",
       "      <td>0</td>\n",
       "      <td>1</td>\n",
       "      <td>22.0</td>\n",
       "      <td>1</td>\n",
       "      <td>0</td>\n",
       "      <td>0</td>\n",
       "      <td>0</td>\n",
       "      <td>1</td>\n",
       "      <td>0</td>\n",
       "      <td>0</td>\n",
       "      <td>1</td>\n",
       "    </tr>\n",
       "    <tr>\n",
       "      <th>1</th>\n",
       "      <td>1</td>\n",
       "      <td>0</td>\n",
       "      <td>38.0</td>\n",
       "      <td>1</td>\n",
       "      <td>0</td>\n",
       "      <td>1</td>\n",
       "      <td>0</td>\n",
       "      <td>0</td>\n",
       "      <td>1</td>\n",
       "      <td>0</td>\n",
       "      <td>0</td>\n",
       "    </tr>\n",
       "    <tr>\n",
       "      <th>2</th>\n",
       "      <td>1</td>\n",
       "      <td>0</td>\n",
       "      <td>26.0</td>\n",
       "      <td>0</td>\n",
       "      <td>0</td>\n",
       "      <td>0</td>\n",
       "      <td>0</td>\n",
       "      <td>1</td>\n",
       "      <td>0</td>\n",
       "      <td>0</td>\n",
       "      <td>1</td>\n",
       "    </tr>\n",
       "    <tr>\n",
       "      <th>3</th>\n",
       "      <td>1</td>\n",
       "      <td>0</td>\n",
       "      <td>35.0</td>\n",
       "      <td>1</td>\n",
       "      <td>0</td>\n",
       "      <td>0</td>\n",
       "      <td>0</td>\n",
       "      <td>1</td>\n",
       "      <td>1</td>\n",
       "      <td>0</td>\n",
       "      <td>0</td>\n",
       "    </tr>\n",
       "    <tr>\n",
       "      <th>4</th>\n",
       "      <td>0</td>\n",
       "      <td>1</td>\n",
       "      <td>35.0</td>\n",
       "      <td>0</td>\n",
       "      <td>0</td>\n",
       "      <td>0</td>\n",
       "      <td>0</td>\n",
       "      <td>1</td>\n",
       "      <td>0</td>\n",
       "      <td>0</td>\n",
       "      <td>1</td>\n",
       "    </tr>\n",
       "  </tbody>\n",
       "</table>\n",
       "</div>"
      ],
      "text/plain": [
       "   Survived  Sex   Age  SibSp  Parch  Embarked_C  Embarked_Q  Embarked_S  \\\n",
       "0         0    1  22.0      1      0           0           0           1   \n",
       "1         1    0  38.0      1      0           1           0           0   \n",
       "2         1    0  26.0      0      0           0           0           1   \n",
       "3         1    0  35.0      1      0           0           0           1   \n",
       "4         0    1  35.0      0      0           0           0           1   \n",
       "\n",
       "   Pclass_1  Pclass_2  Pclass_3  \n",
       "0         0         0         1  \n",
       "1         1         0         0  \n",
       "2         0         0         1  \n",
       "3         1         0         0  \n",
       "4         0         0         1  "
      ]
     },
     "execution_count": 353,
     "metadata": {},
     "output_type": "execute_result"
    }
   ],
   "source": [
    "df.head()"
   ]
  },
  {
   "cell_type": "code",
   "execution_count": 354,
   "id": "17be2d54",
   "metadata": {},
   "outputs": [],
   "source": [
    "x = df[[\"Sex\",\"Age\",\"SibSp\",\"Parch\",\"Embarked_C\",\"Embarked_Q\",\"Embarked_S\",\"Pclass_1\",\"Pclass_2\",\"Pclass_3\"]]\n",
    "y = df[[\"Survived\"]]\n",
    "X_train, X_test, Y_train, Y_test = train_test_split(x, y,test_size= 0.2,train_size=0.2, random_state=0)"
   ]
  },
  {
   "cell_type": "code",
   "execution_count": 355,
   "id": "318e56a5",
   "metadata": {},
   "outputs": [
    {
     "name": "stdout",
     "output_type": "stream",
     "text": [
      "Accuracy: 78.9237668161435 %\n",
      "Theta (Coefficients): [[-2.49683195 -0.03397045 -0.25009826 -0.03041674  0.24261093  0.15516515\n",
      "  -0.31873601  1.07978399 -0.04518105 -0.95556288]]\n",
      "Intercept (Theta_0): [2.68503222]\n"
     ]
    },
    {
     "name": "stderr",
     "output_type": "stream",
     "text": [
      "d:\\Miniconda3\\envs\\myenv\\lib\\site-packages\\sklearn\\utils\\validation.py:993: DataConversionWarning: A column-vector y was passed when a 1d array was expected. Please change the shape of y to (n_samples, ), for example using ravel().\n",
      "  y = column_or_1d(y, warn=True)\n",
      "d:\\Miniconda3\\envs\\myenv\\lib\\site-packages\\sklearn\\linear_model\\_logistic.py:818: ConvergenceWarning: lbfgs failed to converge (status=1):\n",
      "STOP: TOTAL NO. of ITERATIONS REACHED LIMIT.\n",
      "\n",
      "Increase the number of iterations (max_iter) or scale the data as shown in:\n",
      "    https://scikit-learn.org/stable/modules/preprocessing.html\n",
      "Please also refer to the documentation for alternative solver options:\n",
      "    https://scikit-learn.org/stable/modules/linear_model.html#logistic-regression\n",
      "  extra_warning_msg=_LOGISTIC_SOLVER_CONVERGENCE_MSG,\n"
     ]
    }
   ],
   "source": [
    "clf = LogisticRegression().fit(X_train, Y_train)\n",
    "Y_pred = clf.predict(X_test)\n",
    "print(\"Accuracy:\",accuracy_score(Y_test, Y_pred)* 100,\"%\")\n",
    "print(\"Theta (Coefficients):\", clf.coef_)\n",
    "print(\"Intercept (Theta_0):\", clf.intercept_)"
   ]
  },
  {
   "cell_type": "code",
   "execution_count": 356,
   "id": "da23c590",
   "metadata": {},
   "outputs": [
    {
     "name": "stdout",
     "output_type": "stream",
     "text": [
      "PassengerId    0\n",
      "Pclass         0\n",
      "Name           0\n",
      "Sex            0\n",
      "Age            0\n",
      "SibSp          0\n",
      "Parch          0\n",
      "Ticket         0\n",
      "Fare           0\n",
      "Cabin          0\n",
      "Embarked       0\n",
      "dtype: int64\n",
      "The person number 1 is predicted to  not survive\n",
      "The person number 2 is predicted to  not survive\n",
      "The person number 3 is predicted to  survive\n"
     ]
    }
   ],
   "source": [
    "test_data = {\n",
    "    'PassengerId': [2024, 2025, 2026],\n",
    "    'Pclass': [1, 2, 3],\n",
    "    'Name': ['Tony Stack', 'Purple Thanos', 'Pink Kirby'],\n",
    "    'Sex': ['male', 'male', 'female'],\n",
    "    'Age': [50, 40, 30],\n",
    "    'SibSp': [1, 1, 0],\n",
    "    'Parch': [2, 1, 2],\n",
    "    'Ticket': ['A/5 21172', 'PC 17600', 'STON/O2. 3101283'],\n",
    "    'Fare': [100, 50, 25],\n",
    "    'Cabin': [\"C04\",\"C03\",\"C02\"],\n",
    "    'Embarked': ['S', 'C', 'Q']\n",
    "}\n",
    "test_df = pd.DataFrame(test_data)\n",
    "# Preprocessing\n",
    "# Encoding categorical data\n",
    "label_encoder = LabelEncoder()\n",
    "test_df['Sex'] = label_encoder.fit_transform(test_df['Sex'])  # Convert 'Sex' to numerical\n",
    "test_df[\"Embarked\"].fillna(test_df['Embarked'].value_counts().idxmax(), inplace=True)\n",
    "test_df[\"Age\"].fillna(test_df[\"Age\"].median(skipna=True), inplace=True)\n",
    "print(test_df.isnull().sum())\n",
    "# df['Embarked'].fillna('S', inplace=True)  # Fill missing 'Embarked' with 'S' for Southampton\n",
    "#df['Embarked'] = label_encoder.fit_transform(df['Embarked'])  # Convert 'Embarked' to numerical\n",
    "test_df = pd.get_dummies(test_df, columns=['Embarked','Pclass'])\n",
    "# Convert True/False values to 0/1\n",
    "test_df['Embarked_C'] = test_df['Embarked_C'].astype(int)\n",
    "test_df['Embarked_Q'] = test_df['Embarked_Q'].astype(int)\n",
    "test_df['Embarked_S'] = test_df['Embarked_S'].astype(int)\n",
    "# Convert True/False values to 0/1 for Pclass\n",
    "test_df['Pclass_1'] = test_df['Pclass_1'].astype(int)\n",
    "test_df['Pclass_2'] = test_df['Pclass_2'].astype(int)\n",
    "test_df['Pclass_3'] = test_df['Pclass_3'].astype(int)\n",
    "\n",
    "test_df.drop(['Cabin','PassengerId', 'Name', 'Ticket','Fare'], axis=1, inplace=True)\n",
    "\n",
    "# Handling missing values\n",
    "# df['Age'].fillna(df['Age'].median(), inplace=True)  # Replace missing 'Age' with median value\n",
    "# Displaying predictions in a readable format\n",
    "test_prediction = clf.predict(test_df)\n",
    "\n",
    "for i, x in enumerate(test_prediction):\n",
    "    print(f\"The person number {i+1} is predicted to  {'survive' if x == 1 else 'not survive'}\")"
   ]
  }
 ],
 "metadata": {
  "kernelspec": {
   "display_name": "Python 3 (ipykernel)",
   "language": "python",
   "name": "python3"
  },
  "language_info": {
   "codemirror_mode": {
    "name": "ipython",
    "version": 3
   },
   "file_extension": ".py",
   "mimetype": "text/x-python",
   "name": "python",
   "nbconvert_exporter": "python",
   "pygments_lexer": "ipython3",
   "version": "3.7.7"
  }
 },
 "nbformat": 4,
 "nbformat_minor": 5
}
