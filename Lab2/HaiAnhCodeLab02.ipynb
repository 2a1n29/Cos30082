{
  "nbformat": 4,
  "nbformat_minor": 0,
  "metadata": {
    "colab": {
      "provenance": [],
      "gpuType": "T4"
    },
    "kernelspec": {
      "name": "python3",
      "display_name": "Python 3"
    },
    "language_info": {
      "name": "python"
    },
    "accelerator": "GPU"
  },
  "cells": [
    {
      "cell_type": "code",
      "execution_count": null,
      "metadata": {
        "id": "l3x5-cUGz6uM",
        "colab": {
          "base_uri": "https://localhost:8080/",
          "height": 611
        },
        "outputId": "77f3c4e7-9119-4d9e-8c7e-b532c8ade06f"
      },
      "outputs": [
        {
          "output_type": "stream",
          "name": "stdout",
          "text": [
            "Drive already mounted at /content/drive; to attempt to forcibly remount, call drive.mount(\"/content/drive\", force_remount=True).\n",
            "[[  19.645752   54.306858 1013.2923     73.281456]]\n",
            "First example: [[  28.66   77.95 1009.56   69.07]]\n",
            "\n",
            "Normalized: [[ 1.21  1.86 -0.63 -0.29]]\n",
            "\u001b[1m1/1\u001b[0m \u001b[32m━━━━━━━━━━━━━━━━━━━━\u001b[0m\u001b[37m\u001b[0m \u001b[1m0s\u001b[0m 251ms/step\n",
            "\u001b[1m60/60\u001b[0m \u001b[32m━━━━━━━━━━━━━━━━━━━━\u001b[0m\u001b[37m\u001b[0m \u001b[1m0s\u001b[0m 3ms/step\n",
            "CPU times: user 39.6 s, sys: 3.09 s, total: 42.7 s\n",
            "Wall time: 50.7 s\n"
          ]
        },
        {
          "output_type": "display_data",
          "data": {
            "text/plain": [
              "<Figure size 640x480 with 1 Axes>"
            ],
            "image/png": "[encoded data removed]"
          },
          "metadata": {}
        }
      ],
      "source": [
        "%%time\n",
        "from google.colab import drive\n",
        "drive.mount('/content/drive')\n",
        "import matplotlib.pyplot as plt\n",
        "import numpy as np\n",
        "import pandas as pd\n",
        "import seaborn as sns\n",
        "import tensorflow as tf\n",
        "from tensorflow import keras\n",
        "from tensorflow.python.keras.layers import Input, Dense\n",
        "from tensorflow.keras import layers\n",
        "\n",
        "raw_dataset = pd.read_csv(\"/content/drive/My Drive/Colab Notebooks/lab02.csv\")\n",
        "dataset = raw_dataset.copy()\n",
        "dataset.tail()\n",
        "dataset.isna().sum()\n",
        "dataset = dataset.dropna()\n",
        "train_dataset = dataset.sample(frac=0.8, random_state=0)\n",
        "test_dataset = dataset.drop(train_dataset.index)\n",
        "# sns.pairplot(train_dataset[['PE', 'AT', 'V', 'AP','RH']], diag_kind='kde')\n",
        "train_dataset.describe().transpose()\n",
        "train_features = train_dataset.copy()\n",
        "test_features = test_dataset.copy()\n",
        "\n",
        "train_labels = train_features.pop('PE')\n",
        "test_labels = test_features.pop('PE')\n",
        "train_dataset.describe().transpose()[['mean', 'std']]\n",
        "normalizer = tf.keras.layers.Normalization(axis=-1)\n",
        "normalizer.adapt(np.array(train_features))\n",
        "print(normalizer.mean.numpy())\n",
        "first = np.array(train_features[:1])\n",
        "\n",
        "with np.printoptions(precision=2, suppress=True):\n",
        "  print('First example:', first)\n",
        "  print()\n",
        "  print('Normalized:', normalizer(first).numpy())\n",
        "\n",
        "def plot_loss(history):\n",
        "  plt.plot(history.history['loss'], label='loss')\n",
        "  plt.plot(history.history['val_loss'], label='val_loss')\n",
        "  plt.ylim([0, 10])\n",
        "  plt.xlabel('Epoch')\n",
        "  plt.ylabel('Error [PE]')\n",
        "  plt.legend()\n",
        "  plt.grid(True)\n",
        "\n",
        "test_results = {}\n",
        "\n",
        "linear_model = tf.keras.Sequential([\n",
        "    normalizer,\n",
        "    layers.Dense(units=1)\n",
        "])\n",
        "linear_model.predict(train_features[:10])\n",
        "linear_model.layers[1].kernel\n",
        "linear_model.compile(\n",
        "    optimizer=tf.keras.optimizers.Adam(learning_rate=0.1),\n",
        "    loss='mean_absolute_error')\n",
        "\n",
        "history = linear_model.fit(\n",
        "    train_features,\n",
        "    train_labels,\n",
        "    epochs=100,\n",
        "    # Suppress logging.\n",
        "    verbose=0,\n",
        "    # Calculate validation results on 20% of the training data.\n",
        "    validation_split = 0.2)\n",
        "\n",
        "# plot_loss(history)\n",
        "\n",
        "#Save a key array value pair to the test_results set to record its test set performance\n",
        "test_results['linear_model'] = linear_model.evaluate(\n",
        "    test_features, test_labels, verbose=0)\n",
        "\n",
        "#Checking all models's performance\n",
        "# pd.DataFrame(test_results, index=['Mean absolute error [PE]']).T\n",
        "\n",
        "#Predicting\n",
        "test_predictions = linear_model.predict(test_features).flatten()\n",
        "\n",
        "a = plt.axes(aspect='equal')\n",
        "plt.scatter(test_labels, test_predictions)\n",
        "plt.xlabel('True Values [PE]')\n",
        "plt.ylabel('Predictions [PE]')\n",
        "lims = [0, 2000]\n",
        "plt.xlim(lims)\n",
        "plt.ylim(lims)\n",
        "_ = plt.plot(lims, lims)\n",
        "\n",
        "#Error checking\n",
        "# error = test_predictions - test_labels\n",
        "# plt.hist(error, bins=25)\n",
        "# plt.xlabel('Prediction Error [PE]')\n",
        "# _ = plt.ylabel('Count')"
      ]
    },
    {
      "cell_type": "code",
      "source": [],
      "metadata": {
        "id": "BpKzj3YMfTUv"
      },
      "execution_count": null,
      "outputs": []
    }
  ]
}